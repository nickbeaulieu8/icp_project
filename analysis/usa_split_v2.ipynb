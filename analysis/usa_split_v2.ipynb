{
 "cells": [
  {
   "cell_type": "code",
   "execution_count": 1,
   "id": "2e19a4e2-1a21-40fe-90f3-b553eb892cee",
   "metadata": {},
   "outputs": [],
   "source": [
    "import pandas as pd\n",
    "import numpy as np\n",
    "import matplotlib.pyplot as plt"
   ]
  },
  {
   "cell_type": "code",
   "execution_count": 2,
   "id": "54897f31-9b6d-492d-9cc0-80370ff1e981",
   "metadata": {},
   "outputs": [
    {
     "name": "stdout",
     "output_type": "stream",
     "text": [
      "Initial number of records: 47203336\n"
     ]
    }
   ],
   "source": [
    "# 1. Load the data from the CSV file.\n",
    "file_path = \"../data/usa_per_0923.csv\"\n",
    "df = pd.read_csv(file_path)\n",
    "original_count = len(df)\n",
    "print(f\"Initial number of records: {original_count}\")"
   ]
  },
  {
   "cell_type": "code",
   "execution_count": 3,
   "id": "fb8e9e72-b257-4abb-a06f-e30f551b34df",
   "metadata": {},
   "outputs": [
    {
     "name": "stdout",
     "output_type": "stream",
     "text": [
      "Removed 7947616 instances with INCTOT == 9999998 or 9999999. That is 16.84% of the data.\n",
      "Removed 0 instances with AGE < 15. That is 0.00% of the data (after previous filter).\n"
     ]
    }
   ],
   "source": [
    "# 2a. Remove instances with INCTOT == 9999998 or 9999999.\n",
    "mask_inctot_bad = (df['INCTOT'] == 9999998) | (df['INCTOT'] == 9999999)\n",
    "removed_count = mask_inctot_bad.sum()\n",
    "df = df[~mask_inctot_bad]\n",
    "current_count = len(df)\n",
    "percent_removed = removed_count / original_count * 100\n",
    "print(f\"Removed {removed_count} instances with INCTOT == 9999998 or 9999999. That is {percent_removed:.2f}% of the data.\")\n",
    "\n",
    "# 2b. Remove instances with AGE < 15.\n",
    "count_before_age = len(df)\n",
    "df = df[df['AGE'] >= 15]\n",
    "removed_count_age = count_before_age - len(df)\n",
    "percent_removed_age = removed_count_age / count_before_age * 100\n",
    "print(f\"Removed {removed_count_age} instances with AGE < 15. That is {percent_removed_age:.2f}% of the data (after previous filter).\")"
   ]
  },
  {
   "cell_type": "code",
   "execution_count": 4,
   "id": "03b89156-72f8-4b63-b132-ed1dec72245b",
   "metadata": {},
   "outputs": [
    {
     "name": "stdout",
     "output_type": "stream",
     "text": [
      "\n",
      "Data insights grouped by YEAR:\n",
      "    YEAR  count_INCTOT_<=1  count_INCTOT_<0  avg_INCTOT_>1  median_INCTOT_>1  \\\n",
      "0   2009            298182             2848   39439.429449           26000.0   \n",
      "1   2010            325499             2665   38854.338430           25000.0   \n",
      "2   2011            352759             2325   38009.142122           24300.0   \n",
      "3   2012            349685             2092   39509.808419           25000.0   \n",
      "4   2013            347240             1826   41306.260724           26000.0   \n",
      "5   2014            343041             1724   42106.821431           26700.0   \n",
      "6   2015            344350             1821   44093.474655           28000.0   \n",
      "7   2016            337795             1756   45324.715535           29000.0   \n",
      "8   2017            338592             3005   46812.474673           30000.0   \n",
      "9   2018            333886             3057   48542.906077           30000.0   \n",
      "10  2019            325444             2818   51474.128886           33000.0   \n",
      "11  2020            286664             2546   51535.504239           33000.0   \n",
      "12  2021            353508             2981   53152.333246           34100.0   \n",
      "13  2022            357670             3266   56517.790060           36000.0   \n",
      "14  2023            353012             3097   59396.497900           38800.0   \n",
      "\n",
      "    avg_INCTOT_all  median_INCTOT_all  \n",
      "0     34661.979820            21300.0  \n",
      "1     33779.009013            20400.0  \n",
      "2     32768.564485            19600.0  \n",
      "3     34117.015235            20000.0  \n",
      "4     35747.967995            20800.0  \n",
      "5     36528.664186            21500.0  \n",
      "6     38276.894702            22600.0  \n",
      "7     39487.482941            23600.0  \n",
      "8     40832.207084            24400.0  \n",
      "9     42496.599239            25000.0  \n",
      "10    45302.282904            27400.0  \n",
      "11    44912.615045            26900.0  \n",
      "12    46295.922385            28000.0  \n",
      "13    49422.738259            30000.0  \n",
      "14    52133.932346            31800.0  \n"
     ]
    }
   ],
   "source": [
    "# 3. Group the data by YEAR and compute insights.\n",
    "grouped = df.groupby('YEAR')\n",
    "\n",
    "# Initialize a list to store the insight rows.\n",
    "insights = []\n",
    "\n",
    "# Loop over each group (i.e. for each YEAR).\n",
    "for year, group in grouped:\n",
    "    # a. The number of values with INCTOT <= 1.\n",
    "    count_le1 = (group['INCTOT'] <= 1).sum()\n",
    "    \n",
    "    # b. The number of values with INCTOT < 0.\n",
    "    count_lt0 = (group['INCTOT'] < 0).sum()\n",
    "    \n",
    "    # c. The average and median of INCTOT values that are > 1.\n",
    "    # If no values > 1 exist, these will be NaN.\n",
    "    subset_over1 = group[group['INCTOT'] > 1]['INCTOT']\n",
    "    avg_over1 = subset_over1.mean()\n",
    "    median_over1 = subset_over1.median()\n",
    "    \n",
    "    # d. The overall average and median of INCTOT values.\n",
    "    avg_all = group['INCTOT'].mean()\n",
    "    median_all = group['INCTOT'].median()\n",
    "    \n",
    "    insights.append({\n",
    "        'YEAR': year,\n",
    "        'count_INCTOT_<=1': count_le1,\n",
    "        'count_INCTOT_<0': count_lt0,\n",
    "        'avg_INCTOT_>1': avg_over1,\n",
    "        'median_INCTOT_>1': median_over1,\n",
    "        'avg_INCTOT_all': avg_all,\n",
    "        'median_INCTOT_all': median_all\n",
    "    })\n",
    "\n",
    "insights_df = pd.DataFrame(insights)\n",
    "print(\"\\nData insights grouped by YEAR:\")\n",
    "print(insights_df)"
   ]
  },
  {
   "cell_type": "code",
   "execution_count": 5,
   "id": "f3485b8f-5f39-4767-9ee6-95009e54c012",
   "metadata": {},
   "outputs": [
    {
     "name": "stdout",
     "output_type": "stream",
     "text": [
      "\n",
      "Removed 5047327 instances with INCTOT <= 1 from the dataset.\n"
     ]
    }
   ],
   "source": [
    "# 4. Remove instances with INCTOT <= 1 from the filtered dataset.\n",
    "final_count_before = len(df)\n",
    "df = df[df['INCTOT'] > 1]\n",
    "removed_final = final_count_before - len(df)\n",
    "print(f\"\\nRemoved {removed_final} instances with INCTOT <= 1 from the dataset.\")"
   ]
  },
  {
   "cell_type": "code",
   "execution_count": 7,
   "id": "0853c0aa-cf0b-4935-bb01-2fd51d4846d3",
   "metadata": {
    "scrolled": true
   },
   "outputs": [
    {
     "name": "stdout",
     "output_type": "stream",
     "text": [
      "\n",
      "Percentile DataFrame (first few rows):\n",
      "    YEAR  Percentile  INCTOT_value\n",
      "0   2009      0.0000           4.0\n",
      "1   2009      0.0001           4.0\n",
      "2   2009      0.0002           4.0\n",
      "3   2009      0.0003           4.0\n",
      "4   2009      0.0004           4.0\n",
      "5   2009      0.0005           4.0\n",
      "6   2009      0.0006          10.0\n",
      "7   2009      0.0007          10.0\n",
      "8   2009      0.0008          20.0\n",
      "9   2009      0.0009          20.0\n",
      "10  2009      0.0010          20.0\n",
      "11  2009      0.0011          30.0\n",
      "12  2009      0.0012          30.0\n",
      "13  2009      0.0013          40.0\n",
      "14  2009      0.0014          40.0\n",
      "15  2009      0.0015          50.0\n",
      "16  2009      0.0016          50.0\n",
      "17  2009      0.0017          50.0\n",
      "18  2009      0.0018          60.0\n",
      "19  2009      0.0019          60.0\n",
      "20  2009      0.0020          70.0\n",
      "21  2009      0.0021          80.0\n",
      "22  2009      0.0022          80.0\n",
      "23  2009      0.0023          90.0\n",
      "24  2009      0.0024         100.0\n",
      "25  2009      0.0025         100.0\n",
      "26  2009      0.0026         100.0\n",
      "27  2009      0.0027         100.0\n",
      "28  2009      0.0028         100.0\n",
      "29  2009      0.0029         100.0\n",
      "30  2009      0.0030         100.0\n",
      "31  2009      0.0031         110.0\n",
      "32  2009      0.0032         120.0\n",
      "33  2009      0.0033         120.0\n",
      "34  2009      0.0034         130.0\n",
      "35  2009      0.0035         130.0\n",
      "36  2009      0.0036         140.0\n",
      "37  2009      0.0037         150.0\n",
      "38  2009      0.0038         150.0\n",
      "39  2009      0.0039         150.0\n",
      "40  2009      0.0040         154.0\n",
      "41  2009      0.0041         160.0\n",
      "42  2009      0.0042         170.0\n",
      "43  2009      0.0043         180.0\n",
      "44  2009      0.0044         190.0\n",
      "45  2009      0.0045         200.0\n",
      "46  2009      0.0046         200.0\n",
      "47  2009      0.0047         200.0\n",
      "48  2009      0.0048         200.0\n",
      "49  2009      0.0049         200.0\n"
     ]
    }
   ],
   "source": [
    "# 5. For the filtered data, compute the INCTOT percentiles grouped by YEAR at every 0.01% interval.\n",
    "# First, create an array of quantile levels from 0 to 1 in steps of 0.0001 (i.e. 0.01%)\n",
    "quantile_levels = np.linspace(0, 1, 10001)   # 0, 0.0001, 0.0002, ... 1.0\n",
    "\n",
    "# Next, compute the quantiles per YEAR and store results in a DataFrame\n",
    "percentile_dfs = []\n",
    "for year, group in df.groupby(\"YEAR\"):\n",
    "    # Compute the quantiles for the INCTOT column for this group\n",
    "    quantiles = group[\"INCTOT\"].quantile(quantile_levels)\n",
    "    # Construct a DataFrame: each row reports YEAR, the decimal representation of the percentile,\n",
    "    # and the corresponding INCTOT value.\n",
    "    temp_df = pd.DataFrame({\n",
    "        \"YEAR\": year,\n",
    "        \"Percentile\": quantile_levels,  # If preferred, you could multiply by 100 to show percentages\n",
    "        \"INCTOT_value\": quantiles.values\n",
    "    })\n",
    "    percentile_dfs.append(temp_df)\n",
    "\n",
    "# Concatenate all groups into one DataFrame and sort by YEAR then Percentile.\n",
    "percentile_df = pd.concat(percentile_dfs, ignore_index=True)\n",
    "percentile_df.sort_values([\"YEAR\", \"Percentile\"], inplace=True)"
   ]
  },
  {
   "cell_type": "code",
   "execution_count": 8,
   "id": "6be94b2a-4694-43c2-a2ac-747dc3c31bad",
   "metadata": {},
   "outputs": [],
   "source": [
    "# Remove duplicate (YEAR, INCTOT_value) rows by keeping only the median Percentile for each group\n",
    "percentile_df = (\n",
    "    percentile_df\n",
    "    .groupby([\"YEAR\", \"INCTOT_value\"], as_index=False)[\"Percentile\"]\n",
    "    .median()\n",
    ")"
   ]
  },
  {
   "cell_type": "code",
   "execution_count": null,
   "id": "2c305569-3aa3-4006-bc9f-dd06f0f439db",
   "metadata": {},
   "outputs": [],
   "source": [
    "# Save the results to CSV files:\n",
    "insights_df.to_csv(\"../data/usa_inc_stats.csv\", index=False)\n",
    "percentile_df.to_csv(\"../data/usa_percentiles.csv\", index=False)"
   ]
  }
 ],
 "metadata": {
  "kernelspec": {
   "display_name": "Python [conda env:base] *",
   "language": "python",
   "name": "conda-base-py"
  },
  "language_info": {
   "codemirror_mode": {
    "name": "ipython",
    "version": 3
   },
   "file_extension": ".py",
   "mimetype": "text/x-python",
   "name": "python",
   "nbconvert_exporter": "python",
   "pygments_lexer": "ipython3",
   "version": "3.12.7"
  }
 },
 "nbformat": 4,
 "nbformat_minor": 5
}
